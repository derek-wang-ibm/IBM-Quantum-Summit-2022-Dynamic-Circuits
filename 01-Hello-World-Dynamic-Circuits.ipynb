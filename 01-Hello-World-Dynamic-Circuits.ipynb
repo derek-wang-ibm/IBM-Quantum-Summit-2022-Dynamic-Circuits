{
 "cells": [
  {
   "cell_type": "markdown",
   "id": "cfce3142",
   "metadata": {
    "slideshow": {
     "slide_type": "slide"
    }
   },
   "source": [
    "### Introduction to Dynamic Circuits with Qiskit\n",
    "\n",
    "**Qiskit Slack: @Quantom & @Michael Healy**\n",
    "\n",
    "**Github: taalexander & @mbhealy**\n",
    "\n",
    "This notebook is a demonstration of how to use the newly publicly available dynamic circuit capabilities of Qiskit and IBM Quantum Services\n",
    "\n",
    "Documentation for dynamic circuits may be found [here](https://quantum-computing.ibm.com/services/resources/docs/resources/manage/systems/dynamic-circuits/introduction).\n",
    "\n",
    "<img src=\"figs/ibm_quantum.png\" alt=\"drawing\" style=\"width:1000px;\"/>"
   ]
  },
  {
   "cell_type": "code",
   "execution_count": 1,
   "id": "6e199404",
   "metadata": {
    "slideshow": {
     "slide_type": "skip"
    }
   },
   "outputs": [],
   "source": [
    "import os\n",
    "from typing import Any, Dict, List, Optional, Union\n",
    "\n",
    "import numpy as np\n",
    "import matplotlib.pyplot as plt\n",
    "\n",
    "from qiskit import IBMQ, QuantumCircuit, QuantumRegister, ClassicalRegister, quantum_info as qi\n",
    "from qiskit.circuit import Delay, Parameter\n",
    "from qiskit_ibm_runtime import QiskitRuntimeService\n",
    "\n",
    "%matplotlib inline\n",
    "\n",
    "import warnings\n",
    "warnings.filterwarnings(\"ignore\")"
   ]
  },
  {
   "cell_type": "markdown",
   "id": "b6af895a",
   "metadata": {
    "slideshow": {
     "slide_type": "subslide"
    }
   },
   "source": [
    "## Running dynamic circuits with Qiskit\n",
    "\n",
    "The first step we need to take is to instantiate our Qiskit runtime service \n",
    "instance and load our backend. This gives us a handle to the hardware we will\n",
    "control.\n",
    "\n",
    "We need to get access to a backend that supports dynamic circuits, first we'll\n",
    "search for backends that have that support.\n",
    "\n",
    "Set your hub/group/provider below."
   ]
  },
  {
   "cell_type": "code",
   "execution_count": 2,
   "id": "8660e2f4",
   "metadata": {
    "slideshow": {
     "slide_type": "-"
    }
   },
   "outputs": [],
   "source": [
    "# Note: This can be any hub/group/project that has access to the required devices and the Qiskit runtime.\n",
    "hub = \"ibm-q-internal\"\n",
    "group = \"dev-sys-software\"\n",
    "project = \"internal-test\"\n",
    "hgp = f\"{hub}/{group}/{project}\""
   ]
  },
  {
   "cell_type": "code",
   "execution_count": 3,
   "id": "f21ff1a7",
   "metadata": {},
   "outputs": [
    {
     "data": {
      "text/plain": [
       "[<IBMBackend('ibmq_dublin')>,\n",
       " <IBMBackend('ibmq_kolkata')>,\n",
       " <IBMBackend('ibmq_mumbai')>,\n",
       " <IBMBackend('ibmq_jakarta')>,\n",
       " <IBMBackend('ibmq_manila')>,\n",
       " <IBMBackend('ibm_hanoi')>,\n",
       " <IBMBackend('ibm_kawasaki')>,\n",
       " <IBMBackend('ibm_perth')>,\n",
       " <IBMBackend('ibm_wellington')>,\n",
       " <IBMBackend('ibm_peekskill')>,\n",
       " <IBMBackend('alt_auckland')>]"
      ]
     },
     "execution_count": 3,
     "metadata": {},
     "output_type": "execute_result"
    }
   ],
   "source": [
    "service = QiskitRuntimeService(instance=hgp)\n",
    "service.backends(\n",
    "    filters=lambda b: hasattr(b.configuration(), 'supported_features') and \"qasm3\" in b.configuration().supported_features)"
   ]
  },
  {
   "cell_type": "code",
   "execution_count": 4,
   "id": "50ed180f",
   "metadata": {},
   "outputs": [],
   "source": [
    "# Choose your favorite device from the list above output by the service.backends() call\n",
    "backend_name = \"ibm_wellington\"\n",
    "backend = service.backend(backend_name, instance=hgp)"
   ]
  },
  {
   "cell_type": "code",
   "execution_count": null,
   "id": "318c915f",
   "metadata": {},
   "outputs": [],
   "source": []
  }
 ],
 "metadata": {
  "celltoolbar": "Slideshow",
  "kernelspec": {
   "display_name": "Python 3 (ipykernel)",
   "language": "python",
   "name": "python3"
  },
  "language_info": {
   "codemirror_mode": {
    "name": "ipython",
    "version": 3
   },
   "file_extension": ".py",
   "mimetype": "text/x-python",
   "name": "python",
   "nbconvert_exporter": "python",
   "pygments_lexer": "ipython3",
   "version": "3.8.8"
  }
 },
 "nbformat": 4,
 "nbformat_minor": 5
}

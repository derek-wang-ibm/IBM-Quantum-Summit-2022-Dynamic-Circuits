{
 "cells": [
  {
   "cell_type": "markdown",
   "id": "b249a7ee",
   "metadata": {
    "slideshow": {
     "slide_type": "slide"
    }
   },
   "source": [
    "## Demonstrating OpenQASM3\n",
    "The preferred path to send a dynamic circuit to IBM Quantum hardware is through `backend.run(program, dynamic=True)`. However, currently Qiskit cannot describe all of the capabilities IBM backend's are capable of such as classical compute, and `extern` function invocations. Similarily, not everyone is using Qiskit and Python, and they may require another way to send programs to the backend.\n",
    "\n",
    "We are hard at work adding more capability support to Qiskit, however, in the meantime we support accepting OpenQASM 3 programs directly through the `qasm3-runner` Qiskit Runtime program.\n",
    "\n",
    "Below we import the Qiskit Runtime provider."
   ]
  },
  {
   "cell_type": "code",
   "execution_count": 1,
   "id": "aaf2f6a2",
   "metadata": {
    "slideshow": {
     "slide_type": "skip"
    }
   },
   "outputs": [],
   "source": [
    "from qiskit import transpile\n",
    "from qiskit_ibm_runtime import QiskitRuntimeService\n",
    "\n",
    "import logging.config\n",
    "logging.config.dictConfig({\n",
    "    'version': 1,\n",
    "    'disable_existing_loggers': True,\n",
    "})\n"
   ]
  },
  {
   "cell_type": "code",
   "execution_count": 2,
   "id": "e7f6522f",
   "metadata": {
    "slideshow": {
     "slide_type": "subslide"
    }
   },
   "outputs": [],
   "source": [
    "hub = \"ibm-q-internal\"\n",
    "group = \"performance\"\n",
    "project = \"summit-demos\"\n",
    "hgp = f\"{hub}/{group}/{project}\"\n",
    "backend_name = \"ibm_peekskill\"\n",
    "\n",
    "# Temporary overrides.\n",
    "hgp = \"ibm-q-internal/dev-sys-software/internal-test\"\n",
    "backend_name = \"ibm_peekskill\"\n",
    "\n",
    "service = QiskitRuntimeService(instance=hgp)\n",
    "runtime_backend = service.backend(backend_name, instance=hgp)"
   ]
  },
  {
   "cell_type": "markdown",
   "id": "5211a8c2",
   "metadata": {
    "slideshow": {
     "slide_type": "subslide"
    }
   },
   "source": [
    "## We can dump circuits from Qiskit to OpenQASM 3\n",
    "The exporter has several configuration settings, however, those below are typically valid for IBM Quantum backends.\n",
    "\n",
    "When debugging your program it is very useful to be able to dump a circuit to a QASM source string."
   ]
  },
  {
   "cell_type": "code",
   "execution_count": 3,
   "id": "50bf6e5a",
   "metadata": {
    "slideshow": {
     "slide_type": "-"
    }
   },
   "outputs": [],
   "source": [
    "from qiskit import QuantumCircuit\n",
    "qc_reset = QuantumCircuit(1, 2)\n",
    "qc_reset.x(0)\n",
    "qc_reset.measure(0, 0)\n",
    "qc_reset.x(0).c_if(0, 1)\n",
    "qc_reset.measure(0, 1)\n",
    "qc_reset = transpile(qc_reset, runtime_backend)"
   ]
  },
  {
   "cell_type": "code",
   "execution_count": 4,
   "id": "16a4a88b",
   "metadata": {
    "slideshow": {
     "slide_type": "-"
    }
   },
   "outputs": [
    {
     "name": "stdout",
     "output_type": "stream",
     "text": [
      "OPENQASM 3;\n",
      "include \"stdgates.inc\";\n",
      "bit[2] c;\n",
      "x $0;\n",
      "c[0] = measure $0;\n",
      "if (c[0] == 1) {\n",
      "  x $0;\n",
      "}\n",
      "c[1] = measure $0;\n",
      "\n"
     ]
    }
   ],
   "source": [
    "from qiskit import qasm3\n",
    "\n",
    "exporter = qasm3.Exporter(disable_constants=True, basis_gates=runtime_backend.configuration().basis_gates)\n",
    "\n",
    "print(qasm3_reset:=exporter.dumps(qc_reset))"
   ]
  },
  {
   "cell_type": "markdown",
   "id": "ff2ff795",
   "metadata": {},
   "source": [
    "## Submitting the OpenQASM 3 source string directly to the backend\n",
    "There are some limitations to submitting source strings directly (such as using the exporter settings above). Please see the dynamic circuit documentation for more info."
   ]
  },
  {
   "cell_type": "code",
   "execution_count": 5,
   "id": "2f331a54",
   "metadata": {},
   "outputs": [
    {
     "name": "stdout",
     "output_type": "stream",
     "text": [
      "Runtime job id: cdjsbiian60ka169ibjg\n"
     ]
    },
    {
     "name": "stderr",
     "output_type": "stream",
     "text": [
      "<ipython-input-5-6204658b2874>:12: DeprecationWarning: Note that the 'job_id' and 'backend' attributes of a runtime job have been deprecated as of qiskit-ibm-runtime 0.7 and will be removed no sooner than 3 months after the release date. Please use the job_id() and backend() methods instead.\n",
      "  qasm3_reset_job = runtime_backend.service.run(\n"
     ]
    }
   ],
   "source": [
    "from qiskit.providers.ibmq import RunnerResult\n",
    "\n",
    "runtime_params = {\n",
    "    \"circuits\": qasm3_reset,\n",
    "    \"shots\": 1000,\n",
    "}\n",
    "\n",
    "options = {\n",
    "    \"backend_name\": runtime_backend.name,\n",
    "}\n",
    "\n",
    "qasm3_reset_job = runtime_backend.service.run(\n",
    "    program_id=\"qasm3-runner\",\n",
    "    options=options,\n",
    "    inputs=runtime_params,\n",
    "    result_decoder=RunnerResult,\n",
    ")\n",
    "\n",
    "print(f\"Runtime job id: {qasm3_reset_job.job_id}\")"
   ]
  },
  {
   "cell_type": "code",
   "execution_count": 6,
   "id": "cc4b6491",
   "metadata": {},
   "outputs": [
    {
     "name": "stdout",
     "output_type": "stream",
     "text": [
      "The outcome counts from our reset experiment are {'0': 23, '1': 940, '10': 13, '11': 24}\n"
     ]
    }
   ],
   "source": [
    "print(f\"The outcome counts from our reset experiment are {qasm3_reset_job.result().get_counts()}\")"
   ]
  },
  {
   "cell_type": "markdown",
   "id": "f66afcea",
   "metadata": {},
   "source": [
    "## Behind the scenes"
   ]
  },
  {
   "cell_type": "markdown",
   "id": "de8a48b6",
   "metadata": {},
   "source": [
    "![Qiskit Runtime](https://iqx-docs.quantum-computing.ibm.com/_images/Qiskit_Runtime_architecture1.png)"
   ]
  },
  {
   "cell_type": "markdown",
   "id": "d8e4653a",
   "metadata": {
    "slideshow": {
     "slide_type": "subslide"
    }
   },
   "source": [
    "## Currently more capabilities are available through OpenQASM 3 than through Qiskit\n",
    "\n",
    "Next we see a demo of using extended classical compute capabilities to interplay classical and quantum resources\n",
    "in real-time on the hardware. We hope that these capabilities will enable a new phase of hardware research.\n",
    "\n",
    "Note: Classical registers are concatenated together in the results."
   ]
  },
  {
   "cell_type": "code",
   "execution_count": 7,
   "id": "31d0421e",
   "metadata": {
    "slideshow": {
     "slide_type": "-"
    }
   },
   "outputs": [],
   "source": [
    "classical_compute_qasm3 = \"\"\"\n",
    "OPENQASM 3.0;\n",
    "\n",
    "bit a;\n",
    "bit b;\n",
    "bit c;\n",
    "\n",
    "reset $0; reset $1; reset $2;\n",
    "barrier $0, $1, $2;\n",
    "reset $0; reset $1; reset $2;\n",
    "barrier $0, $1, $2;\n",
    "reset $0; reset $1; reset $2;\n",
    "barrier $0, $1, $2;\n",
    "\n",
    "x $0;\n",
    "x $2;\n",
    "\n",
    "a = measure $0; // expected \"1\"\n",
    "b = measure $1; // expected \"0\"\n",
    "c = measure $2; // expected \"1\"\n",
    "\n",
    "bit[3] d = \"100\";\n",
    "\n",
    "// Purely classical compute is efficient\n",
    "if (((a | b) & c) == 1) {\n",
    "    // Path will nearly always execute \n",
    "    d[0] = 1;\n",
    "} else {\n",
    "    // Path will rarely execute outside of SPAM errors\n",
    "    d[0] = 0;\n",
    "}\n",
    "\n",
    "bit[3] e = \"101\";\n",
    "// Conditionally execute based on classical bit array comparison\n",
    "// Should always execute\n",
    "// As it involves a qubit it has a higher latency\n",
    "if (d == e) {\n",
    "    x $1;\n",
    "}\n",
    "\n",
    "bit final;\n",
    "final = measure $1; // expected \"1\"\n",
    "// Final expected result is '1000000101'\n",
    "\"\"\""
   ]
  },
  {
   "cell_type": "code",
   "execution_count": 8,
   "id": "54e6cae9",
   "metadata": {
    "slideshow": {
     "slide_type": "subslide"
    }
   },
   "outputs": [
    {
     "name": "stdout",
     "output_type": "stream",
     "text": [
      "Runtime job id: cdjscdvtlcfkm5erofq0\n"
     ]
    }
   ],
   "source": [
    "from qiskit.providers.ibmq import RunnerResult\n",
    "\n",
    "runtime_params = {\n",
    "    \"circuits\": classical_compute_qasm3,\n",
    "    \"shots\": 1000,\n",
    "}\n",
    "\n",
    "options = {\n",
    "    \"backend_name\": runtime_backend.name,\n",
    "}\n",
    "\n",
    "classical_compute_job = runtime_backend.service.run(\n",
    "    program_id=\"qasm3-runner\",\n",
    "    options=options,\n",
    "    inputs=runtime_params,\n",
    "    result_decoder=RunnerResult,\n",
    ")\n",
    "\n",
    "print(f\"Runtime job id: {classical_compute_job.job_id}\")"
   ]
  },
  {
   "cell_type": "code",
   "execution_count": 9,
   "id": "47eba90b",
   "metadata": {},
   "outputs": [
    {
     "name": "stdout",
     "output_type": "stream",
     "text": [
      "The outcome counts from our classical computer experiment {'1': 10, '1000000100': 1, '1000000101': 936, '1000000111': 12, '100': 25, '101': 12, '111': 4}\n"
     ]
    }
   ],
   "source": [
    "print(f\"The outcome counts from our classical computer experiment {classical_compute_job.result().get_counts()}\")"
   ]
  },
  {
   "cell_type": "markdown",
   "id": "a746c0db",
   "metadata": {},
   "source": [
    "## We can also run arbitrary classical code on the controller\n",
    "We have the capability to run classical code on the controller written in a purely classical language. The hope is that this will allow us and are users to experiment with efficient hardware decoders, real-time variational techniques\n",
    "and other experimental techniques such as efficient PEC.\n",
    "\n",
    "*Note*: This is an early feature and is currently in development.\n"
   ]
  },
  {
   "cell_type": "markdown",
   "id": "1af08569",
   "metadata": {},
   "source": [
    "For example, consider the Rust function below which efficiently evaluates the parity of an integer\n",
    "\n",
    "```rust\n",
    "#[no_mangle]\n",
    "pub extern \"C\" fn parity(mut x: i64) -> i32 {\n",
    "  x ^= x >> 32;\n",
    "  x ^= x >> 16;\n",
    "  x ^= x >> 8;\n",
    "  x ^= x >> 4;\n",
    "  x ^= x >> 2;\n",
    "  x ^= x >> 1;\n",
    "  return (x as i32) & 1;\n",
    "}\n",
    "```\n",
    "\n",
    "Or this `decoder` function which maps an input state to its bit-flipped inverse.\n",
    "\n",
    "```rust\n",
    "#[no_mangle]\n",
    "pub extern \"C\" fn decoder(x: i32) -> i32 {\n",
    "  match x {\n",
    "    0 => 7,\n",
    "    1 => 6,\n",
    "    2 => 5,\n",
    "    3 => 4,\n",
    "    4 => 3,\n",
    "    5 => 2,\n",
    "    6 => 1,\n",
    "    7 => 0,\n",
    "    _ => 0,\n",
    "  }\n",
    "}\n",
    "```"
   ]
  },
  {
   "cell_type": "markdown",
   "id": "4543a5e1",
   "metadata": {},
   "source": [
    "We are able to interplay these classical computations with our quantum dynaimcs through the OpenQASM3 `extern` subroutine declaration as we show below for the `decoder` function above.\n",
    "\n",
    "The example below shows how to declare an `extern` function that must be made available\n",
    "by the backend, casting a bit array of measurement results to an integer and using the\n",
    "result of this to invoke the `decoder` function and then using this result in a hardware\n",
    "efficient `switch` statement."
   ]
  },
  {
   "cell_type": "code",
   "execution_count": 10,
   "id": "acd7f22a",
   "metadata": {},
   "outputs": [],
   "source": [
    "parity_check_qasm3 = \"\"\"\n",
    "OPENQASM 3;\n",
    "\n",
    "// Extern definition\n",
    "extern decoder(int[32]) -> int[32];\n",
    "\n",
    "// Initialize our qubits\n",
    "reset $0; reset $1; reset $2; reset $3; reset $4; reset $5;\n",
    "barrier $0, $1, $2, $3, $4, $5;\n",
    "\n",
    "// Prepare the input state |101>\n",
    "x $0; id $1; x $2;\n",
    "bit[3] prepare;\n",
    "// Measure this input state\n",
    "prepare[0] = measure $0;\n",
    "prepare[1] = measure $1;\n",
    "prepare[2] = measure $2;\n",
    "// The output should be \"101\"\n",
    "\n",
    "// Cast the bit array to an integer\n",
    "int[32] decoder_input;\n",
    "decoder_input  = prepare;\n",
    "\n",
    "// Invoke the decoder function and assign the result\n",
    "int[32] decoded;\n",
    "decoded = decoder(decoder_input);\n",
    "// The output should be \"010\"\n",
    "\n",
    "// Perform a hardware efficient\n",
    "// switch. Requiring only one\n",
    "// communication event in the hardware\n",
    "// for all possible outcomes.\n",
    "switch (decoded) {\n",
    "   case 0: {\n",
    "\n",
    "   }\n",
    "   break;\n",
    "   case 1: {\n",
    "      x $3;\n",
    "   }\n",
    "   break;\n",
    "   // Should be invoked\n",
    "   case 2: {\n",
    "      x $4;\n",
    "   }\n",
    "   break;\n",
    "   case 3: {\n",
    "      x $3;\n",
    "      x $4;\n",
    "   }\n",
    "   break;\n",
    "   case 4: {\n",
    "      x $5;\n",
    "   }\n",
    "   break;\n",
    "   case 5: {\n",
    "      x $3;\n",
    "      x $5;\n",
    "   }\n",
    "   break;\n",
    "   case 6: {\n",
    "      x $4;\n",
    "      x $5;\n",
    "   } \n",
    "   break;\n",
    "   case 7: {\n",
    "      x $3;\n",
    "      x $4;\n",
    "      x $5;\n",
    "   }\n",
    "   break;\n",
    "   default: {\n",
    "\n",
    "   }\n",
    "   break;\n",
    "}\n",
    "\n",
    "bit[3] mapped_parity;\n",
    "mapped_parity[0] = measure $3;\n",
    "mapped_parity[1] = measure $4;\n",
    "mapped_parity[2] = measure $5;\n",
    "// The output should be \"010\"\n",
    "\"\"\""
   ]
  },
  {
   "cell_type": "code",
   "execution_count": 11,
   "id": "61a1ed75",
   "metadata": {},
   "outputs": [
    {
     "name": "stdout",
     "output_type": "stream",
     "text": [
      "Runtime job id: cdjscqi2h6kvivd6cb60\n"
     ]
    }
   ],
   "source": [
    "from qiskit.providers.ibmq import RunnerResult\n",
    "\n",
    "runtime_params = {\n",
    "    \"circuits\": parity_check_qasm3,\n",
    "    \"shots\": 1000,\n",
    "}\n",
    "\n",
    "options = {\n",
    "    \"backend_name\": runtime_backend.name,\n",
    "}\n",
    "\n",
    "parity_check_job = runtime_backend.service.run(\n",
    "    program_id=\"qasm3-runner\",\n",
    "    options=options,\n",
    "    inputs=runtime_params,\n",
    "    result_decoder=RunnerResult,\n",
    ")\n",
    "print(f\"Runtime job id: {parity_check_job.job_id}\")"
   ]
  },
  {
   "cell_type": "code",
   "execution_count": 13,
   "id": "7e90a1eb",
   "metadata": {},
   "outputs": [
    {
     "name": "stdout",
     "output_type": "stream",
     "text": [
      "The correct outcome counts of \"010\" from our decoder experiment were obtained on 93.8% of shots\n"
     ]
    }
   ],
   "source": [
    "print(f'The correct outcome counts of \"010\" from our decoder experiment were obtained on {100*parity_check_job.result().get_counts()[\"10101\"]/1000}% of shots')"
   ]
  },
  {
   "cell_type": "markdown",
   "id": "e81bac03",
   "metadata": {},
   "source": [
    "Moving forward into 2022 and 2023 we will be working with users to explore the hardware's unique capabilities and enable novel experiments through our internal and client-facing research teams."
   ]
  }
 ],
 "metadata": {
  "celltoolbar": "Slideshow",
  "kernelspec": {
   "display_name": "Python 3",
   "language": "python",
   "name": "python3"
  },
  "language_info": {
   "codemirror_mode": {
    "name": "ipython",
    "version": 3
   },
   "file_extension": ".py",
   "mimetype": "text/x-python",
   "name": "python",
   "nbconvert_exporter": "python",
   "pygments_lexer": "ipython3",
   "version": "3.9.5"
  }
 },
 "nbformat": 4,
 "nbformat_minor": 5
}
